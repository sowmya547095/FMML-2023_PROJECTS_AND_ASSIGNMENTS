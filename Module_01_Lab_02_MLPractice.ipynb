{
  "nbformat": 4,
  "nbformat_minor": 0,
  "metadata": {
    "colab": {
      "provenance": [],
      "include_colab_link": true
    },
    "kernelspec": {
      "name": "python3",
      "display_name": "Python 3"
    },
    "language_info": {
      "name": "python"
    }
  },
  "cells": [
    {
      "cell_type": "markdown",
      "metadata": {
        "id": "view-in-github",
        "colab_type": "text"
      },
      "source": [
        "<a href=\"https://colab.research.google.com/github/sowmya547095/FMML-2023_PROJECTS_AND_ASSIGNMENTS/blob/main/Module_01_Lab_02_MLPractice.ipynb\" target=\"_parent\"><img src=\"https://colab.research.google.com/assets/colab-badge.svg\" alt=\"Open In Colab\"/></a>"
      ]
    },
    {
      "cell_type": "markdown",
      "metadata": {
        "id": "3Eu9VZbF01eq"
      },
      "source": [
        "# Machine learning terms and metrics\n",
        "\n",
        "FMML Module 1, Lab 2<br>\n",
        "\n",
        "\n",
        " In this lab, we will show a part of the ML pipeline by extracting features, training and testing"
      ]
    },
    {
      "cell_type": "code",
      "metadata": {
        "id": "8qBvyEem0vLi"
      },
      "source": [
        "import matplotlib.pyplot as plt\n",
        "import numpy as np\n",
        "from sklearn import datasets\n",
        "# set randomseed\n",
        "rng = np.random.default_rng(seed=42)"
      ],
      "execution_count": null,
      "outputs": []
    },
    {
      "cell_type": "markdown",
      "metadata": {
        "id": "u3t59g5s1HfC"
      },
      "source": [
        "In this lab, we will use the California Housing dataset. There are 20640 samples, each with 8 attributes like income of the block, age of the houses per district etc. The task is to predict the cost of the houses per district.\n",
        "\n",
        "Let us download and examine the dataset."
      ]
    },
    {
      "cell_type": "code",
      "metadata": {
        "id": "8LpqjN991GGJ",
        "colab": {
          "base_uri": "https://localhost:8080/"
        },
        "outputId": "19b98c36-7054-419b-f1f9-a479d70796d7"
      },
      "source": [
        " dataset =  datasets.fetch_california_housing()\n",
        " # print(dataset.DESCR)  # uncomment this if you want to know more about this dataset\n",
        " # print(dataset.keys())  # if you want to know what else is there in this dataset\n",
        " dataset.target = dataset.target.astype(np.int) # so that we can classify\n",
        " print(dataset.data.shape)\n",
        " print(dataset.target.shape)"
      ],
      "execution_count": null,
      "outputs": [
        {
          "output_type": "stream",
          "name": "stdout",
          "text": [
            "(20640, 8)\n",
            "(20640,)\n"
          ]
        },
        {
          "output_type": "stream",
          "name": "stderr",
          "text": [
            "<ipython-input-2-60ae2e9a125e>:4: DeprecationWarning: `np.int` is a deprecated alias for the builtin `int`. To silence this warning, use `int` by itself. Doing this will not modify any behavior and is safe. When replacing `np.int`, you may wish to use e.g. `np.int64` or `np.int32` to specify the precision. If you wish to review your current use, check the release note link for additional information.\n",
            "Deprecated in NumPy 1.20; for more details and guidance: https://numpy.org/devdocs/release/1.20.0-notes.html#deprecations\n",
            "  dataset.target = dataset.target.astype(np.int) # so that we can classify\n"
          ]
        }
      ]
    },
    {
      "cell_type": "markdown",
      "metadata": {
        "id": "iNx4174W5xRg"
      },
      "source": [
        "Here is a function for calculating the 1-nearest neighbours"
      ]
    },
    {
      "cell_type": "code",
      "metadata": {
        "id": "07zpydQj1hIQ"
      },
      "source": [
        "def NN1(traindata, trainlabel, query):\n",
        "  diff  = traindata - query  # find the difference between features. Numpy automatically takes care of the size here\n",
        "  sq = diff*diff # square the differences\n",
        "  dist = sq.sum(1) # add up the squares\n",
        "  label = trainlabel[np.argmin(dist)] # our predicted label is the label of the training data which has the least distance from the query\n",
        "  return label\n",
        "\n",
        "def NN(traindata, trainlabel, testdata):\n",
        "  # we will run nearest neighbour for each sample in the test data\n",
        "  # and collect the predicted classes in an array using list comprehension\n",
        "  predlabel = np.array([NN1(traindata, trainlabel, i) for i in testdata])\n",
        "  return predlabel"
      ],
      "execution_count": null,
      "outputs": []
    },
    {
      "cell_type": "markdown",
      "metadata": {
        "id": "03JktkfIGaje"
      },
      "source": [
        "We will also define a 'random classifier', which randomly allots labels to each sample"
      ]
    },
    {
      "cell_type": "code",
      "metadata": {
        "id": "fogWAtjyGhAH"
      },
      "source": [
        "def RandomClassifier(traindata, trainlabel, testdata):\n",
        "  # in reality, we don't need these arguments\n",
        "\n",
        "  classes = np.unique(trainlabel)\n",
        "  rints = rng.integers(low=0, high=len(classes), size=len(testdata))\n",
        "  predlabel = classes[rints]\n",
        "  return predlabel"
      ],
      "execution_count": null,
      "outputs": []
    },
    {
      "cell_type": "markdown",
      "metadata": {
        "id": "1Hjf1KHs7fU5"
      },
      "source": [
        "Let us define a metric 'Accuracy' to see how good our learning algorithm is. Accuracy is the ratio of the number of correctly classified samples to the total number of samples. The higher the accuracy, the better the algorithm."
      ]
    },
    {
      "cell_type": "code",
      "metadata": {
        "id": "ouuCqWU07bz-"
      },
      "source": [
        "def Accuracy(gtlabel, predlabel):\n",
        "  assert len(gtlabel)==len(predlabel), \"Length of the groundtruth labels and predicted labels should be the same\"\n",
        "  correct = (gtlabel==predlabel).sum() # count the number of times the groundtruth label is equal to the predicted label.\n",
        "  return correct/len(gtlabel)"
      ],
      "execution_count": null,
      "outputs": []
    },
    {
      "cell_type": "markdown",
      "metadata": {
        "id": "4vJFwBFa9Klw"
      },
      "source": [
        "Let us make a function to split the dataset with the desired probability."
      ]
    },
    {
      "cell_type": "code",
      "metadata": {
        "id": "Ko0VzpSM2Tdi"
      },
      "source": [
        "def split(data, label, percent):\n",
        "  # generate a random number for each sample\n",
        "  rnd = rng.random(len(label))\n",
        "  split1 = rnd<percent\n",
        "  split2 = rnd>=percent\n",
        "  split1data = data[split1,:]\n",
        "  split1label = label[split1]\n",
        "  split2data = data[split2,:]\n",
        "  split2label = label[split2]\n",
        "  return split1data, split1label, split2data, split2label"
      ],
      "execution_count": null,
      "outputs": []
    },
    {
      "cell_type": "markdown",
      "metadata": {
        "id": "AcK3LEAJ_LGC"
      },
      "source": [
        "We will reserve 20% of our dataset as the test set. We will not change this portion throughout our experiments"
      ]
    },
    {
      "cell_type": "code",
      "metadata": {
        "id": "bBZkHBLJ1iU-",
        "colab": {
          "base_uri": "https://localhost:8080/"
        },
        "outputId": "f922c4a0-e3e2-4fcc-c2b5-a7422bc88871"
      },
      "source": [
        "testdata, testlabel, alltraindata, alltrainlabel = split(dataset.data, dataset.target, 20/100)\n",
        "print('Number of test samples = ', len(testlabel))\n",
        "print('Number of other samples = ', len(alltrainlabel))\n",
        "print('Percent of test data = ', len(testlabel)*100/len(dataset.target),'%')"
      ],
      "execution_count": null,
      "outputs": [
        {
          "output_type": "stream",
          "name": "stdout",
          "text": [
            "Number of test samples =  4144\n",
            "Number of other samples =  16496\n",
            "Percent of test data =  20.07751937984496 %\n"
          ]
        }
      ]
    },
    {
      "cell_type": "markdown",
      "metadata": {
        "id": "a6Ss0Z6IAGNV"
      },
      "source": [
        "## Experiments with splits\n",
        "\n",
        "Let us reserve some of our train data as a validation set"
      ]
    },
    {
      "cell_type": "code",
      "metadata": {
        "id": "WFew2iry_7W7"
      },
      "source": [
        "traindata, trainlabel, valdata, vallabel = split(alltraindata, alltrainlabel, 75/100)"
      ],
      "execution_count": null,
      "outputs": []
    },
    {
      "cell_type": "markdown",
      "metadata": {
        "id": "60hiu4clFN1i"
      },
      "source": [
        "What is the accuracy of our classifiers on the train dataset?"
      ]
    },
    {
      "cell_type": "code",
      "metadata": {
        "id": "DBlZDTHUFTZx",
        "colab": {
          "base_uri": "https://localhost:8080/"
        },
        "outputId": "eff08d96-70af-4270-d334-b4c2c7be3367"
      },
      "source": [
        "trainpred = NN(traindata, trainlabel, traindata)\n",
        "trainAccuracy = Accuracy(trainlabel, trainpred)\n",
        "print(\"Train accuracy using nearest neighbour is \", trainAccuracy)\n",
        "\n",
        "trainpred = RandomClassifier(traindata, trainlabel, traindata)\n",
        "trainAccuracy = Accuracy(trainlabel, trainpred)\n",
        "print(\"Train accuracy using random classifier is \", trainAccuracy)"
      ],
      "execution_count": null,
      "outputs": [
        {
          "output_type": "stream",
          "name": "stdout",
          "text": [
            "Train accuracy using nearest neighbour is  1.0\n",
            "Train accuracy using random classifier is  0.164375808538163\n"
          ]
        }
      ]
    },
    {
      "cell_type": "markdown",
      "metadata": {
        "id": "7h08-9gJDtSy"
      },
      "source": [
        "For nearest neighbour, the train accuracy is always 1. The accuracy of the random classifier is close to 1/(number of classes) which is 0.1666 in our case.\n",
        "\n",
        "Let us predict the labels for our validation set and get the accuracy"
      ]
    },
    {
      "cell_type": "code",
      "metadata": {
        "id": "4h7bXoW_2H3v",
        "colab": {
          "base_uri": "https://localhost:8080/"
        },
        "outputId": "165bd673-19ea-4701-ff85-da30cc3ee368"
      },
      "source": [
        "valpred = NN(traindata, trainlabel, valdata)\n",
        "valAccuracy = Accuracy(vallabel, valpred)\n",
        "print(\"Validation accuracy using nearest neighbour is \", valAccuracy)\n",
        "\n",
        "valpred = RandomClassifier(traindata, trainlabel, valdata)\n",
        "valAccuracy = Accuracy(vallabel, valpred)\n",
        "print(\"Validation accuracy using random classifier is \", valAccuracy)"
      ],
      "execution_count": null,
      "outputs": [
        {
          "output_type": "stream",
          "name": "stdout",
          "text": [
            "Validation accuracy using nearest neighbour is  0.34108527131782945\n",
            "Validation accuracy using random classifier is  0.1688468992248062\n"
          ]
        }
      ]
    },
    {
      "cell_type": "markdown",
      "metadata": {
        "id": "py9bLguFEjfg"
      },
      "source": [
        "Validation accuracy of nearest neighbour is considerably less than its train accuracy while the validation accuracy of random classifier is the same. However, the validation accuracy of nearest neighbour is twice that of the random classifier.\n",
        "\n",
        "Now let us try another random split and check the validation accuracy"
      ]
    },
    {
      "cell_type": "code",
      "metadata": {
        "id": "ujm3cyYzEntE",
        "colab": {
          "base_uri": "https://localhost:8080/"
        },
        "outputId": "8ccb683f-7166-4ec9-af7e-517d83e3b3e1"
      },
      "source": [
        "traindata, trainlabel, valdata, vallabel = split(alltraindata, alltrainlabel, 75/100)\n",
        "valpred = NN(traindata, trainlabel, valdata)\n",
        "valAccuracy = Accuracy(vallabel, valpred)\n",
        "print(\"Validation accuracy of nearest neighbour is \", valAccuracy)"
      ],
      "execution_count": null,
      "outputs": [
        {
          "output_type": "stream",
          "name": "stdout",
          "text": [
            "Validation accuracy of nearest neighbour is  0.34048257372654156\n"
          ]
        }
      ]
    },
    {
      "cell_type": "markdown",
      "metadata": {
        "id": "oSOx7U83EKie"
      },
      "source": [
        "You can run the above cell multiple times to try with different random splits.\n",
        "We notice that the accuracy is different for each run, but close together.\n",
        "\n",
        "Now let us compare it with the accuracy we get on the test dataset."
      ]
    },
    {
      "cell_type": "code",
      "metadata": {
        "id": "PNEZ5ToYBEDW",
        "colab": {
          "base_uri": "https://localhost:8080/"
        },
        "outputId": "4163c9f4-d09e-48d8-aadc-e35a06f830fe"
      },
      "source": [
        "testpred = NN(alltraindata, alltrainlabel, testdata)\n",
        "testAccuracy = Accuracy(testlabel, testpred)\n",
        "print('Test accuracy is ', testAccuracy)"
      ],
      "execution_count": null,
      "outputs": [
        {
          "output_type": "stream",
          "name": "stdout",
          "text": [
            "Test accuracy is  0.34917953667953666\n"
          ]
        }
      ]
    },
    {
      "cell_type": "markdown",
      "metadata": {
        "id": "w3dGD531K3gH"
      },
      "source": [
        "### Try it out for yourself and answer:\n",
        "1. How is the accuracy of the validation set affected if we increase the percentage of validation set? What happens when we reduce it?\n",
        "2. How does the size of the train and validation set affect how well we can predict the accuracy on the test set using the validation set?\n",
        "3. What do you think is a good percentage to reserve for the validation set so that thest two factors are balanced?\n",
        "\n",
        "Answer for both nearest neighbour and random classifier. You can note down the values for your experiments and plot a graph using  <a href=https://matplotlib.org/stable/gallery/lines_bars_and_markers/step_demo.html#sphx-glr-gallery-lines-bars-and-markers-step-demo-py>plt.plot<href>. Check also for extreme values for splits, like 99.9% or 0.1%"
      ]
    },
    {
      "cell_type": "markdown",
      "source": [
        "Question no 1:"
      ],
      "metadata": {
        "id": "m8rZk1KqLVHc"
      }
    },
    {
      "cell_type": "markdown",
      "source": [
        "Averaging the validation accuracy across multiple splits can indeed provide more consistent and reliable results when evaluating the performance of a machine learning model, especially in scenarios where randomness or variability can impact the training and evaluation process. This practice is commonly referred to as \"cross-validation.\"\n",
        "\n",
        "Cross-validation involves splitting your dataset into multiple subsets or \"folds,\" training the model on different combinations of these folds, and then averaging the evaluation metrics (such as accuracy) obtained from each fold. There are several benefits to using cross-validation:\n",
        "\n",
        "Reduced Variance: By averaging the results from multiple folds, you reduce the impact of random variation that might occur when using a single validation set. This provides a more stable and representative estimate of your model's performance.\n",
        "\n",
        "Better Generalization: Cross-validation helps you assess how well your model generalizes to unseen data, as it evaluates the model's performance on multiple different subsets of the data.\n",
        "\n",
        "Robustness to Data Splitting: Since you use different data splits for each fold, cross-validation ensures that your evaluation results are less dependent on a specific random split of the data. This makes your model assessment more robust."
      ],
      "metadata": {
        "id": "Gpr4h9HILZd_"
      }
    },
    {
      "cell_type": "markdown",
      "source": [
        "Question no 2:"
      ],
      "metadata": {
        "id": "YFmSjVInLsOa"
      }
    },
    {
      "cell_type": "markdown",
      "source": [
        "Cross-validation provides a more accurate estimate of how well your machine learning model is likely to perform on unseen data compared to a single train-test split. However, it's essential to understand that cross-validation estimates are not the same as the actual test accuracy you would obtain when deploying your model in a real-world setting.\n",
        "\n",
        "Here's how cross-validation relates to estimating test accuracy:\n",
        "\n",
        "More Reliable Estimate: Cross-validation provides a more reliable estimate of a model's performance because it averages results from multiple train-validation splits. This can help reduce the impact of randomness in a single data split, making your estimate more stable and representative.\n",
        "\n",
        "Closer to True Performance: Cross-validation results are typically closer to the model's true performance on unseen data than a single train-test split. It gives you a better understanding of how well your model generalizes to different parts of the dataset.\n",
        "\n",
        "Model Selection and Hyperparameter Tuning: Cross-validation is especially valuable when comparing multiple models or tuning hyperparameters. It allows you to make more informed decisions about which model or parameter settings are likely to perform better on unseen data."
      ],
      "metadata": {
        "id": "qbYeN0SuLwpb"
      }
    },
    {
      "cell_type": "markdown",
      "source": [
        "Question no 3:"
      ],
      "metadata": {
        "id": "_SDD7zdyL5PV"
      }
    },
    {
      "cell_type": "markdown",
      "source": [
        "The number of iterations (also known as \"folds\") in cross-validation can have an effect on the accuracy of the estimate. In general, using a higher number of iterations can provide a better estimate of a model's performance, but there are trade-offs to consider.\n",
        "\n",
        "Here's how the number of iterations affects the estimate in cross-validation:\n",
        "\n",
        "More Iterations, Better Estimate: Increasing the number of iterations in cross-validation (e.g., going from 3-fold to 5-fold or 10-fold) typically provides a more accurate and reliable estimate of a model's performance. This is because you are using more diverse subsets of your data for training and validation, reducing the impact of randomness and variability.\n",
        "\n",
        "Computational Cost: While increasing the number of iterations can improve the estimate's accuracy, it also increases the computational cost. Each additional fold requires training and evaluating the model multiple times, which can be time-consuming, especially for large datasets or complex models.\n",
        "\n",
        "Diminishing Returns: There is a point of diminishing returns when it comes to the number of iterations. Going from a 3-fold cross-validation to a 10-fold cross-validation might improve the estimate, but the improvement may be relatively small compared to the increase in computational resources required.\n",
        "\n",
        "Bias-Variance Trade-off: In very small datasets, using a high number of folds can lead to high variance in the estimates because each fold contains very little data. Conversely, in very large datasets, you can often use more folds without significantly increasing the computational cost, leading to more stable estimates."
      ],
      "metadata": {
        "id": "ZPQ8LmmaL9XX"
      }
    },
    {
      "cell_type": "markdown",
      "metadata": {
        "id": "PnYvkAZLQY7h"
      },
      "source": [
        "## Multiple Splits\n",
        "\n",
        "One way to get more accurate estimates for the test accuracy is by using <b>crossvalidation</b>. Here, we will try a simple version, where we do multiple train/val splits and take the average of validation accuracies as the test accuracy estimation. Here is a function for doing this. Note that this function will take a long time to execute."
      ]
    },
    {
      "cell_type": "code",
      "metadata": {
        "id": "E4nGCUQXBTzo"
      },
      "source": [
        "# you can use this function for random classifier also\n",
        "def AverageAccuracy(alldata, alllabel, splitpercent, iterations, classifier=NN):\n",
        "  accuracy = 0\n",
        "  for ii in range(iterations):\n",
        "    traindata, trainlabel, valdata, vallabel = split(alldata, alllabel, splitpercent)\n",
        "    valpred = classifier(traindata, trainlabel, valdata)\n",
        "    accuracy += Accuracy(vallabel, valpred)\n",
        "  return accuracy/iterations # average of all accuracies"
      ],
      "execution_count": null,
      "outputs": []
    },
    {
      "cell_type": "code",
      "metadata": {
        "id": "H3qtNar7Bbik",
        "colab": {
          "base_uri": "https://localhost:8080/"
        },
        "outputId": "c9cd1f2f-8052-4a3b-e7fd-8f786f76079c"
      },
      "source": [
        "print('Average validation accuracy is ', AverageAccuracy(alltraindata, alltrainlabel, 75/100, 10, classifier=NN))\n",
        "testpred = NN(alltraindata, alltrainlabel, testdata)\n",
        "print('test accuracy is ',Accuracy(testlabel, testpred) )"
      ],
      "execution_count": null,
      "outputs": [
        {
          "output_type": "stream",
          "name": "stdout",
          "text": [
            "Average validation accuracy is  0.33584635395170215\n",
            "test accuracy is  0.34917953667953666\n"
          ]
        }
      ]
    },
    {
      "cell_type": "markdown",
      "metadata": {
        "id": "33GIn4x5VH-d"
      },
      "source": [
        "This is a very simple way of doing cross-validation. There are many well-known algorithms for cross-validation, like k-fold cross-validation, leave-one-out etc. This will be covered in detail in a later module. For more information about cross-validation, check <a href=https://en.wikipedia.org/wiki/Cross-validation_(statistics)>Cross-validatioin (Wikipedia)</a>\n",
        "\n",
        "### Questions\n",
        "1. Does averaging the validation accuracy across multiple splits give more consistent results?\n",
        "2. Does it give more accurate estimate of test accuracy?\n",
        "3. What is the effect of the number of iterations on the estimate? Do we get a better estimate with higher iterations?\n",
        "4. Consider the results you got for the previous questions. Can we deal with a very small train dataset or validation dataset by increasing the iterations?\n"
      ]
    },
    {
      "cell_type": "markdown",
      "source": [
        "Question no 1:"
      ],
      "metadata": {
        "id": "CYoS1DsXMVBm"
      }
    },
    {
      "cell_type": "markdown",
      "source": [
        "Increasing the number of iterations (folds) in cross-validation can help mitigate the challenges of working with a very small training dataset or validation dataset to some extent, but it may not completely solve the underlying issues. Here's how increasing iterations can impact small datasets:\n",
        "\n",
        "Reduced Variance: With more iterations, you get multiple chances to train and validate your model on different subsets of your small dataset. This can help reduce the impact of randomness in the data split and provide a more stable estimate of model performance.\n",
        "\n",
        "Increased Robustness: Increasing iterations can make your model assessment more robust by ensuring that you explore a larger portion of your small dataset. It can give you a better understanding of how well your model generalizes, even when working with limited data.\n",
        "\n",
        "However, there are limitations to consider:\n",
        "\n",
        "Data Size: Even with more iterations, the fundamental limitation of a small dataset remains. If your dataset is extremely small, it may still lack the diversity and representativeness needed to train a robust machine learning model. Cross-validation can't create more data; it can only make the best use of the available data.\n",
        "\n",
        "Computational Cost: As you increase the number of iterations, you incur a higher computational cost. This can become a significant concern, especially when working with limited computational resources.\n",
        "\n",
        "Risk of Overfitting: With very small datasets, there's an increased risk of overfitting during model training, and cross-validation may not completely alleviate this issue. Overfitting occurs when a model learns to fit noise in the data because there isn't enough data to learn the underlying patterns.\n",
        "\n",
        "Model Choice: The choice of the machine learning algorithm and model complexity becomes crucial when dealing with small datasets. Some models are more robust to small datasets than others, and feature selection or engineering may be necessary to reduce dimensionality and improve performance."
      ],
      "metadata": {
        "id": "4qqaUCqCMbtk"
      }
    },
    {
      "cell_type": "markdown",
      "source": [
        "Question no 2:"
      ],
      "metadata": {
        "id": "RGd4-wNvMtJJ"
      }
    },
    {
      "cell_type": "markdown",
      "source": [
        "The size of the validation set in machine learning has a significant impact on the training and evaluation of models. Here's how the accuracy of the validation set is affected when you increase or decrease the percentage of the validation set:\n",
        "\n",
        "Increasing the Percentage of Validation Set:\n",
        "\n",
        "Pros:\n",
        "\n",
        "Better Model Evaluation: A larger validation set provides a more reliable estimate of the model's performance on unseen data. It helps ensure that your model generalizes well to new, unseen examples.\n",
        "Reduced Overfitting: With a larger validation set, it becomes harder for a model to overfit the validation data. Overfitting occurs when a model learns to perform well on the validation set but doesn't generalize well to new data. A larger validation set helps detect overfitting early.\n",
        "Cons:\n",
        "\n",
        "Reduced Training Data: By allocating more data to the validation set, you have less data available for training your model. This can be a problem, especially if you have limited data to begin with. Insufficient training data can lead to underfitting.\n",
        "Impact on Validation Accuracy: Initially, as you increase the percentage of the validation set, the validation accuracy might improve because you have a better estimate of the model's performance. However, if you allocate too much data to the validation set, it can lead to a decrease in validation accuracy due to the reduced amount of data available for training.\n",
        "\n",
        "Reducing the Percentage of Validation Set:\n",
        "\n",
        "Pros:\n",
        "\n",
        "More Training Data: With a smaller validation set, you have more data available for training your model. This can be beneficial, especially when you have limited data.\n",
        "Cons:\n",
        "\n",
        "Less Reliable Model Evaluation: A smaller validation set may not provide an accurate estimate of the model's performance on unseen data. It can lead to higher variance in your evaluation metrics.\n",
        "Impact on Validation Accuracy: Initially, as you reduce the percentage of the validation set, the validation accuracy may increase because you have more training data. However, if the validation set becomes too small, the accuracy might decrease due to the lack of reliable evaluation data"
      ],
      "metadata": {
        "id": "9xe4pN_0MwWS"
      }
    },
    {
      "cell_type": "markdown",
      "source": [],
      "metadata": {
        "id": "bk-IxcrBY7ly"
      }
    },
    {
      "cell_type": "markdown",
      "source": [
        "Question no 3:"
      ],
      "metadata": {
        "id": "0RPpfOMBNIkg"
      }
    },
    {
      "cell_type": "markdown",
      "source": [
        "The size of the training and validation sets can indeed affect how well you can predict the accuracy on the test set using the validation set. Here's how different scenarios might play out:\n",
        "\n",
        "Large Training Set, Small Validation Set:\n",
        "\n",
        "If you have a large training set and a small validation set, you might achieve high training accuracy because the model has more data to learn from. However, the validation accuracy might not be a reliable predictor of test set accuracy. This is because the small validation set may not adequately represent the diversity of the test set, leading to overfitting or underfitting.\n",
        "Small Training Set, Large Validation Set:\n",
        "\n",
        "With a small training set and a large validation set, you may have a more accurate estimate of how the model generalizes to new data. However, your model might not perform well on the validation set because it didn't have enough training data to learn meaningful patterns. Consequently, while the validation accuracy is more indicative of test set performance, it might be lower due to the limited training data.\n",
        "Balanced Training and Validation Sets:\n",
        "\n",
        "Ideally, you want a balance between the training and validation set sizes. This allows the model to learn meaningful patterns from a sufficient amount of training data while also providing a representative validation set for accurate evaluation. In such cases, the validation accuracy can serve as a reasonably good predictor of the test set accuracy.\n",
        "Cross-Validation:\n",
        "\n",
        "To obtain a more robust estimate of model performance, you can use techniques like k-fold cross-validation. This involves dividing your data into multiple folds (typically 5 or 10), training and validating the model on different subsets of the data, and then averaging the validation scores. Cross-validation helps reduce the impact of the specific split of data into training and validation sets and provides a more reliable estimate of test set performance."
      ],
      "metadata": {
        "id": "aSBhIAfcY9Hs"
      }
    },
    {
      "cell_type": "markdown",
      "source": [
        "Question no 4:"
      ],
      "metadata": {
        "id": "pbNZej0mNSrq"
      }
    },
    {
      "cell_type": "markdown",
      "source": [
        "The choice of the percentage to reserve for the validation set can depend on several factors, including the size of your dataset, the complexity of your model, and your specific goals. There is no one-size-fits-all answer, but a common rule of thumb is to allocate around 20-30% of your data to the validation set. However, this is a general guideline and may need to be adjusted based on your circumstances:\n",
        "\n",
        "Small Datasets: If you have a small dataset (e.g., a few hundred or fewer examples), you might need to allocate a larger percentage (e.g., 30% or more) to the validation set to ensure you have a sufficiently representative sample for evaluation. With limited data, you want to be cautious about overfitting, so a larger validation set can help.\n",
        "\n",
        "Large Datasets: For larger datasets (e.g., thousands of examples or more), you can often get away with a smaller validation set percentage (e.g., 20%). With more data available for training, you may not need as large a validation set to get a reliable estimate of model performance.\n",
        "\n",
        "Complex Models: If you are using a very complex model (e.g., deep neural networks with millions of parameters), it's generally a good practice to have a larger validation set to guard against overfitting. In such cases, you might allocate more data to validation.\n",
        "\n",
        "Cross-Validation: In some cases, especially when you have limited data, you might choose to use cross-validation techniques like k-fold cross-validation. This involves splitting your data into multiple subsets and performing validation and training iterations multiple times. Cross-validation provides a more robust estimate of model performance and can mitigate the impact of the specific validation set size.\n",
        "\n",
        "Domain Knowledge: Consider domain-specific knowledge and the characteristics of your data. For example, if your data is inherently noisy or has imbalanced classes, you might need a larger validation set to ensure robust model evaluation."
      ],
      "metadata": {
        "id": "3wOefK2yNVro"
      }
    }
  ]
}